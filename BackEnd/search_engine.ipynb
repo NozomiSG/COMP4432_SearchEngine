{
 "cells": [
  {
   "cell_type": "code",
   "execution_count": 4,
   "metadata": {
    "collapsed": true
   },
   "outputs": [],
   "source": [
    "import pandas as pd\n",
    "import numpy as np\n",
    "from sklearn.feature_extraction.text import TfidfVectorizer\n",
    "from sklearn.metrics.pairwise import cosine_similarity\n",
    "import nltk\n",
    "from nltk.corpus import stopwords\n",
    "from nltk.stem import WordNetLemmatizer\n",
    "import string"
   ]
  },
  {
   "cell_type": "code",
   "execution_count": 5,
   "outputs": [
    {
     "name": "stderr",
     "output_type": "stream",
     "text": [
      "[nltk_data] Downloading package stopwords to\n",
      "[nltk_data]     /Users/notyoursmac/nltk_data...\n",
      "[nltk_data]   Package stopwords is already up-to-date!\n",
      "[nltk_data] Downloading package wordnet to\n",
      "[nltk_data]     /Users/notyoursmac/nltk_data...\n",
      "[nltk_data]   Package wordnet is already up-to-date!\n"
     ]
    }
   ],
   "source": [
    "# 下载nltk所需数据\n",
    "nltk.download('stopwords')\n",
    "nltk.download('wordnet')\n",
    "\n",
    "# 读取数据\n",
    "data = pd.read_csv('abcnews-date-text.csv')\n",
    "# 仅读取前100000条数据\n",
    "data = data[:100000]\n",
    "\n",
    "# 数据预处理\n",
    "data.drop_duplicates(subset='headline_text', inplace=True)"
   ],
   "metadata": {
    "collapsed": false
   }
  },
  {
   "cell_type": "code",
   "execution_count": 6,
   "outputs": [],
   "source": [
    "def preprocess_text(text):\n",
    "    text = text.lower()\n",
    "    text = ''.join([c for c in text if c not in string.punctuation])\n",
    "    stop_words = set(stopwords.words('english'))\n",
    "    lemmatizer = WordNetLemmatizer()\n",
    "    words = nltk.word_tokenize(text)\n",
    "    words = [lemmatizer.lemmatize(word) for word in words if word not in stop_words]\n",
    "    return ' '.join(words)\n",
    "\n",
    "data['headline_text'] = data['headline_text'].apply(preprocess_text)"
   ],
   "metadata": {
    "collapsed": false
   }
  },
  {
   "cell_type": "code",
   "execution_count": 7,
   "outputs": [],
   "source": [
    "# 使用TF-IDF表示文本\n",
    "vectorizer = TfidfVectorizer()\n",
    "X = vectorizer.fit_transform(data['headline_text'])\n",
    "\n",
    "# 查询处理函数\n",
    "def search(query, top_n=10):\n",
    "    query = preprocess_text(query)\n",
    "    query_vec = vectorizer.transform([query])\n",
    "\n",
    "    # 计算余弦相似度\n",
    "    similarity_scores = cosine_similarity(query_vec, X)\n",
    "\n",
    "    # 获取最相关的文档\n",
    "    sorted_scores_idx = np.argsort(similarity_scores).flatten()[::-1][:top_n]\n",
    "    return data.iloc[sorted_scores_idx]"
   ],
   "metadata": {
    "collapsed": false
   }
  },
  {
   "cell_type": "code",
   "execution_count": 10,
   "outputs": [
    {
     "name": "stdout",
     "output_type": "stream",
     "text": [
      "       publish_date                         headline_text\n",
      "25606      20030622             brazil hunt usa head home\n",
      "48343      20031012       usa claim world cup third place\n",
      "14743      20030501           clean clear pound warns usa\n",
      "50354      20031022            govt look trade deal china\n",
      "60150      20031209           trade dominate china u talk\n",
      "41007      20030905  business group china highlight trade\n",
      "50397      20031022       market focus china trade dollar\n",
      "87391      20040428           china trade talk fast track\n",
      "85956      20040420           vaile head china trade talk\n",
      "37359      20030818  china australia hold free trade talk\n"
     ]
    }
   ],
   "source": [
    "# 测试搜索引擎\n",
    "query = \"china usa trade war\"\n",
    "results = search(query)\n",
    "print(results)"
   ],
   "metadata": {
    "collapsed": false
   }
  },
  {
   "cell_type": "code",
   "execution_count": null,
   "outputs": [],
   "source": [],
   "metadata": {
    "collapsed": false
   }
  }
 ],
 "metadata": {
  "kernelspec": {
   "display_name": "Python 3",
   "language": "python",
   "name": "python3"
  },
  "language_info": {
   "codemirror_mode": {
    "name": "ipython",
    "version": 2
   },
   "file_extension": ".py",
   "mimetype": "text/x-python",
   "name": "python",
   "nbconvert_exporter": "python",
   "pygments_lexer": "ipython2",
   "version": "2.7.6"
  }
 },
 "nbformat": 4,
 "nbformat_minor": 0
}
